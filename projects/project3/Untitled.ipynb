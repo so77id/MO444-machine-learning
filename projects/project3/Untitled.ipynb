{
 "cells": [
  {
   "cell_type": "code",
   "execution_count": 4,
   "metadata": {
    "collapsed": true
   },
   "outputs": [],
   "source": [
    "from __future__ import absolute_import\n",
    "from __future__ import division\n",
    "from __future__ import print_function\n",
    "\n",
    "import sys\n",
    "import argparse\n",
    "import numpy as np\n",
    "import nltk\n",
    "\n",
    "from utils.load_dataset import load_dataset,get_hash_ids\n",
    "\n",
    "\n",
    "from sklearn import metrics\n",
    "from scipy.spatial import distance\n",
    "from sklearn.cluster import KMeans\n",
    "from sklearn.decomposition import PCA\n",
    "from sklearn.metrics import pairwise_distances_argmin_min\n",
    "\n",
    "from nltk.cluster.kmeans import KMeansClusterer\n"
   ]
  },
  {
   "cell_type": "code",
   "execution_count": 5,
   "metadata": {},
   "outputs": [
    {
     "name": "stdout",
     "output_type": "stream",
     "text": [
      "Loading dataset\n"
     ]
    }
   ],
   "source": [
    "descriptors = load_dataset(\"./dataset/data.csv\")\n",
    "ids_list, news_groups = get_hash_ids(\"./dataset/ids\")"
   ]
  },
  {
   "cell_type": "code",
   "execution_count": 6,
   "metadata": {},
   "outputs": [],
   "source": [
    "pca = PCA(n_components=int(849))\n",
    "descriptors = pca.fit_transform(descriptors)"
   ]
  },
  {
   "cell_type": "code",
   "execution_count": 7,
   "metadata": {
    "collapsed": true
   },
   "outputs": [],
   "source": [
    "kclusterer = KMeansClusterer(int(225), distance=nltk.cluster.util.cosine_distance)\n",
    "predictions = np.array(kclusterer.cluster(descriptors, assign_clusters=True))\n",
    "cluster_centers_ = np.array(kclusterer.means())"
   ]
  },
  {
   "cell_type": "code",
   "execution_count": 8,
   "metadata": {
    "collapsed": true
   },
   "outputs": [],
   "source": [
    "\n",
    "import pandas\n",
    "from collections import Counter\n"
   ]
  },
  {
   "cell_type": "code",
   "execution_count": 9,
   "metadata": {},
   "outputs": [
    {
     "data": {
      "text/plain": [
       "array(['34ea9147378b85f3f16498d8bb7c02e619052e43',\n",
       "       '4c5531e4bd3833d1d17f104d1b9434e917fe4d3f',\n",
       "       'a22e3bf57ba81c45bb7dde6dbf2914bb77a7991f',\n",
       "       'a47564bc04b10a784821bfb267a36f1c72db36ff',\n",
       "       'dc807fb10ad3c99b992db66d0ee9e1135c356dc3',\n",
       "       '1f39cce59087c1985ae30195c9523918f6f8032b',\n",
       "       'b103a69b050e4f49a28704e2d58ebe16ad6b5a83',\n",
       "       '34e6662917473e5217e57fd8e7f5e4a3eb4f114c',\n",
       "       '3ac8a49405f2df5eba497f4324e8f907385f1156',\n",
       "       'af1f05f53d837a6b704e8405862430b7323c3ff8',\n",
       "       '08647670600e95d305ca3ae1e3c720e075a75ccf',\n",
       "       '679dcd5296e91f350486b3fa0c4ba51282802a46',\n",
       "       '7f84052fb26b3d77779fcd3c716ea2c225e93ee7',\n",
       "       'b0aba8d9c4e7547c4ac224972b63e2c794c6d63b',\n",
       "       '62e64658dfe3b3bc1124151aa4c38ad4e038095c',\n",
       "       '7fa452141f2ab0a02a0518663bba5bd002bca786',\n",
       "       'c99628cc5dce0c3f16c102db2a00e308e556b62e',\n",
       "       'be60691315810ec41541dce5aaed4e92a537dd9c',\n",
       "       'a1d6e5ec7fcb17821e45df9ca00016d1ef169d2c',\n",
       "       '6ac8195d116f00badc6c87e8ce70487b05401578',\n",
       "       '684d9d32e3a540ff99ec626f4acc2a8aad7f5d16',\n",
       "       '878d5222aebb0967e3923b729fa8dd43fd03c9aa',\n",
       "       '4b6d2d8ce8589ade089d6c986c8dd967f4510871',\n",
       "       '21a8ce6adeb05299b26c5c80c6410b6e327bef07',\n",
       "       '8cadec93fb77d7178a1c599e38ae5ff6b8a7c657',\n",
       "       '6b114b77418b36e168004424b1fa8e61829f7fd4',\n",
       "       '18c2f5762b0ce3af8ed3a1e4d3dded9d4c4f2241',\n",
       "       '39a60d2cdfaad3628238ce2ab75e314169eb62b2',\n",
       "       '198fa35474c9e27fe58b3b30ce237d0d20c73e4a',\n",
       "       '93c106bf9f7e3f905ab25b6f53c7d72bd8155449',\n",
       "       'f489bf90f3708693768e941ff1cda212a15354cb',\n",
       "       'bc423943b6d1ad755ab2b5a02341e16630038815',\n",
       "       '6c46c0722105f89e91ac5977183674f0f12e6b76',\n",
       "       '9287c7bfcf61ba60c37d68aa245a659349b26637',\n",
       "       '6aa67d1e379a4ed8df47c79572c002f24079df48',\n",
       "       '0575fee18f9376c35e12a14476f527c35c72d847',\n",
       "       'ea2d35559ccec440e03e8c9a7b2ef6c7cdb2c4be',\n",
       "       '55e6846463f84ee74244a01cb8ce42e7d10ed6fa',\n",
       "       '832a41119fa96a5f6113f999d527c6d41de22c22',\n",
       "       'e68eeb7bfcd44e9cf226d03751fd882ae7a5481e',\n",
       "       '7727534db384849714f1814d645b4f3c343dfef1',\n",
       "       'eed00c86405248641a816d290c7de5f4a89e9606',\n",
       "       '5155560300c788e0a741b6c2b4a3b415a90d5ab8',\n",
       "       '5e90cf0c8328b0a986e560171216d3d0c6fab620',\n",
       "       '19bf212f4769dbee5de0b7c51ba3bdf1a8a89cb3',\n",
       "       '1c1154f257920ba53fe19a538582b5a498652762',\n",
       "       '17d1cfdd3ee6c839d954ac1c5eaa464e2c461d80',\n",
       "       '15d01886e4f5d7d79e20dfa1d8d451327415501a',\n",
       "       'c6fc94bb25f215c9e03d143370b1251afce597fe',\n",
       "       '2287a9de8ea9cb48feef3ba575078c3e7623c11c',\n",
       "       '192ffa8892d87ed9e61df963adf2c854449cd946',\n",
       "       '8352bacdc1df5284599985efa24b6a4e5b164efb',\n",
       "       'd89484577b6e4a570982d6218b4e83eb534d68b7',\n",
       "       '9275fa4874aff06da28c8b735fef2fbb99403ab3',\n",
       "       'c8eb3fe54eff1175c515d8e4198156be83948cc3',\n",
       "       'bfc36df549a83d696ca8efacaefee854ad1190b3',\n",
       "       'eae0743b7241de0675d9e15ad8a5ccbd1e3e9c5b',\n",
       "       '32ca119fcad529a2830cf2b8896da8f24cad3be0',\n",
       "       '5e489aba21610b26272c2f9acad552d5c04a47db',\n",
       "       'f4936a2cbf750f7b6bc5fcbdae0898b18b803949',\n",
       "       'c710335f9d1856216b9b569f3550e45f9225c6c6',\n",
       "       'd2565eb5ed235d65c1f36f828cd378736685bb14',\n",
       "       '6f507bbdc7ebe78c37216f4c258da1645aeed42e',\n",
       "       '72c5e24c87c74573f86abd3bf5cfa38f221021a0',\n",
       "       'cb98a2c3856c0e0c768e67e8707f557ebd2143c8',\n",
       "       'ec55325fbd26058cc13628f8de365d7f56a09f44',\n",
       "       '27e7cce96381e09dbb1f1018e4aee1bb12528ed5',\n",
       "       '1e77091bb691e45489d59f4fb326b1f5131a3b45',\n",
       "       'e510e613744fa615ccbb23caecd0a96a8e25e691',\n",
       "       '7ec93236b3e33e52737bd8b43e910b63776d5548'], \n",
       "      dtype='<U40')"
      ]
     },
     "execution_count": 9,
     "metadata": {},
     "output_type": "execute_result"
    }
   ],
   "source": [
    "ids_list[np.where(predictions == 1)]"
   ]
  },
  {
   "cell_type": "code",
   "execution_count": 61,
   "metadata": {},
   "outputs": [
    {
     "name": "stdout",
     "output_type": "stream",
     "text": [
      "mean: 0.567823365419\n",
      "std: 0.243876039247\n",
      "median: 0.54347826087\n"
     ]
    }
   ],
   "source": [
    "metric = []\n",
    "\n",
    "for i in range(int(225)):\n",
    "    ids_l = ids_list[np.where(predictions == i)]\n",
    "\n",
    "#     if len(ids_l) == 0:\n",
    "#         counter_0+=1\n",
    "#         continue\n",
    "    clusters_labels = []\n",
    "    for id_l in ids_l:\n",
    "        label_list = news_groups[id_l]\n",
    "        for ll in label_list:\n",
    "            clusters_labels.append(ll)\n",
    "    \n",
    "    clnp = np.array(clusters_labels)\n",
    "    uni, con = np.unique(clnp, return_counts=True)\n",
    "    #letter_counts = Counter(clusters_labels)\n",
    "    #df = pandas.DataFrame.from_dict(letter_counts, orient='index')\n",
    "\n",
    "    ind = np.argsort(con)[::-1]\n",
    "    uni = uni[ind]\n",
    "    con = con[ind]\n",
    "    \n",
    "    maxim = con.sum()\n",
    "    cont = con[0]\n",
    "    \n",
    "    label = uni[0]\n",
    "    uni = uni[1:]\n",
    "    con = con[1:]\n",
    "    marker = np.zeros(uni.shape)\n",
    "    \n",
    "    \n",
    "    for s in label.split('.'):\n",
    "        for j in range(uni.shape[0]):\n",
    "            if marker[j] == 0 and s in uni[j]:\n",
    "                cont += con[j]\n",
    "                marker[j] = 1\n",
    "                \n",
    "        \n",
    "#     print(\"cluster:\", i, \"metrica:\", cont/maxim  )\n",
    "    metric.append(cont/maxim)\n",
    "\n",
    "    \n",
    "metric = np.array(metric, dtype=np.float)\n",
    "\n",
    "print(\"mean:\", metric.mean())\n",
    "print(\"std:\",metric.std())\n",
    "print(\"median:\",np.median(metric))\n",
    "print(\"Min:\",np.median(metric))\n",
    "print(\"median:\",np.median(metric))\n"
   ]
  },
  {
   "cell_type": "code",
   "execution_count": null,
   "metadata": {
    "collapsed": true
   },
   "outputs": [],
   "source": []
  }
 ],
 "metadata": {
  "kernelspec": {
   "display_name": "my-virtualenv-name",
   "language": "python",
   "name": "my-virtualenv-name"
  },
  "language_info": {
   "codemirror_mode": {
    "name": "ipython",
    "version": 3
   },
   "file_extension": ".py",
   "mimetype": "text/x-python",
   "name": "python",
   "nbconvert_exporter": "python",
   "pygments_lexer": "ipython3",
   "version": "3.6.0"
  }
 },
 "nbformat": 4,
 "nbformat_minor": 2
}
